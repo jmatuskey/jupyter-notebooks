{
 "cells": [
  {
   "cell_type": "markdown",
   "metadata": {},
   "source": [
    "<a id=\"title_ID\"></a>\n",
    "# Beginner: Cutout of the TESS FFIs using Astrocut and Astroquery\n",
    "\n",
    "This notebook shows the user how to use the MAST programmatic interface to create a cutout of the small section of the TESS FFIs. For this example we will determine the RA and Dec for TIC 261105201. We then perform a query to determine which sectors contain this RA and Dec, peform a cutout of the FFI time series, open the resulting target pixel files, and plot the first image of each file with the WCS overlayed on the image. Finally we will create a light curve from the resulting image by creating a photometric aperture and summing the light in our pixels.  \n",
    "\n",
    "This tutorial shows the users how to do the following: use `astroquery.catalogs` to query the TIC, use astroquery Tesscut to determine the number of sectors that contain our target and download a FFI cutout.\n",
    "\n",
    "\n",
    "### Table of Contents \n",
    "  [Astroquery Search of the TIC](#catalog_ID) <br> \n",
    "  [Tesscut to Perform FFI Cutout](#tesscut_ID) <br>\n",
    "  [Create Light Curve](#lightcurve) <br>\n",
    "  [Additional Resources](#resources_ID) <br> \n",
    "  [About this Notebook](#about_ID) "
   ]
  },
  {
   "cell_type": "markdown",
   "metadata": {},
   "source": [
    "***"
   ]
  },
  {
   "cell_type": "markdown",
   "metadata": {},
   "source": [
    "## Import Statements\n",
    "<a id=\"imports_ID\"></a>\n",
    "\n",
    "We start with a few import statements.\n",
    "- *numpy* to handle array functions\n",
    "- *astropy.io fits* for accessing FITS files\n",
    "- *astropy.wcs WCS* to interpret the World Coordinate Systems\n",
    "- *matplotlib.pyplot* for plotting the data\n",
    "- *astroquery.mast* for the catalogs and for tesscut.\n"
   ]
  },
  {
   "cell_type": "code",
   "execution_count": 19,
   "metadata": {},
   "outputs": [],
   "source": [
    "import numpy as np\n",
    "from astroquery.mast import Catalogs\n",
    "from astroquery.mast import Tesscut\n",
    "from astropy.coordinates import SkyCoord\n",
    "from astropy.wcs import WCS\n",
    "from astropy.io import fits\n",
    "import matplotlib.pyplot as plt\n",
    "\n",
    "%matplotlib inline\n"
   ]
  },
  {
   "cell_type": "markdown",
   "metadata": {},
   "source": [
    "***"
   ]
  },
  {
   "cell_type": "markdown",
   "metadata": {},
   "source": [
    "<a id=\"catalog_ID\"></a>\n",
    "## Get Coordinates of the Target Using Astroquery Catalogs\n",
    "\n",
    "Here we do a cone search using `Catalogs.query_object` on the TIC catalog around TIC ID = 261105201. The advantage of doing this (instead of a directly criteria query on the Tess Input Catalog) is that it gives us the nearby stars as well as the star we are looking for. The resulting table is sorted by distance from the requested object. We print out the ID and a few other TIC quantities to ensure we found the star we were looking for. "
   ]
  },
  {
   "cell_type": "code",
   "execution_count": 20,
   "metadata": {},
   "outputs": [
    {
     "name": "stdout",
     "output_type": "stream",
     "text": [
      "    ID     Tmag   Jmag      ra       dec     objType\n",
      "--------- ------ ------ --------- ---------- -------\n",
      "261105201  8.309   7.74 82.827401 -79.008764    STAR\n",
      "261105202 15.483 13.738 82.807638 -79.013634    STAR\n",
      "261105203 16.913 16.266 82.841871 -79.015808    STAR\n",
      "261105200  16.77 16.114 82.779607 -79.007233    STAR\n",
      "261105198 15.425 14.444 82.874094 -79.001289    STAR\n"
     ]
    }
   ],
   "source": [
    "ticid = 261105201\n",
    "\n",
    "starName = \"TIC \" + str(ticid)\n",
    "radSearch = 4/60 #radius in degrees\n",
    "\n",
    "catalogData = Catalogs.query_object(starName, radius = radSearch, catalog = \"TIC\")\n",
    "ra = catalogData[0]['ra']\n",
    "dec = catalogData[0]['dec']\n",
    "\n",
    "# Print out the first row in the table\n",
    "print( catalogData[:5]['ID', 'Tmag', 'Jmag', 'ra', 'dec', 'objType'] )"
   ]
  },
  {
   "cell_type": "code",
   "execution_count": 21,
   "metadata": {},
   "outputs": [
    {
     "data": {
      "text/plain": [
       "12"
      ]
     },
     "execution_count": 21,
     "metadata": {},
     "output_type": "execute_result"
    }
   ],
   "source": [
    "# Create a list of nearby bright stars (tess magnitude less than 14) from the rest of the data for later.\n",
    "bright = catalogData['Tmag'] < 15\n",
    "\n",
    "# Make it a list of Ra, Dec pairs of the bright ones. This is now a list of nearby bright stars.\n",
    "nearbyStars = list( map( lambda x,y:[x,y], catalogData[bright]['ra'], catalogData[bright]['dec'] ) )\n",
    "len(nearbyStars)"
   ]
  },
  {
   "cell_type": "markdown",
   "metadata": {},
   "source": [
    "***"
   ]
  },
  {
   "cell_type": "markdown",
   "metadata": {},
   "source": [
    "## Query Which Sectors are Available\n",
    "<a id=\"catalog_ID\"></a>\n",
    "Using the TESS sector information service, we make a request to determine which sectors/cameras/CCDs contain data for this target. Remember that there is a set of FFIs for each TESS sector and those are broken up into 4 cameras which each have 4 CCDs.  We will do this with a radius=0 cone search to find only those FFI sets that contain the star of interest. You can also make the query using a larger radius, which may be important if the star is near the edge of one of the CCDs."
   ]
  },
  {
   "cell_type": "code",
   "execution_count": 22,
   "metadata": {},
   "outputs": [
    {
     "name": "stdout",
     "output_type": "stream",
     "text": [
      "  sectorName   sector camera ccd\n",
      "-------------- ------ ------ ---\n",
      "tess-s0001-4-2      1      4   2\n",
      "tess-s0002-4-2      2      4   2\n"
     ]
    }
   ],
   "source": [
    "coord = SkyCoord(ra, dec, unit = \"deg\")\n",
    "\n",
    "sectorTable = Tesscut.get_sectors(coord)\n",
    "print(sectorTable)"
   ]
  },
  {
   "cell_type": "markdown",
   "metadata": {},
   "source": [
    "The resulting table shows that this target was observed in two different sectors using the same camera and CCD."
   ]
  },
  {
   "cell_type": "markdown",
   "metadata": {},
   "source": [
    "***"
   ]
  },
  {
   "cell_type": "markdown",
   "metadata": {},
   "source": [
    "<a id=\"tesscut_ID\"></a>\n",
    "## Request pixel timeseries cutout from TESS FFIs\n",
    "Astrocut is the tool that runs the cutout service around the RA and Dec that were requested. It delivers a zipped file containing a cutout for each set of FFIs as listed above. It is also possible to request only one sector using the \"sector\" parameter.  \n",
    "<br>\n",
    "For tesscut, ***x*** refers to the CCD columns and ***y*** refers to the CCD rows. Distance can be input in a variety of units, I chose pixels (\"px\")."
   ]
  },
  {
   "cell_type": "code",
   "execution_count": 23,
   "metadata": {},
   "outputs": [],
   "source": [
    "hdulist = Tesscut.get_cutouts(coord, 120)"
   ]
  },
  {
   "cell_type": "markdown",
   "metadata": {},
   "source": [
    "Notice that this returns a **list** of HDUlist objects, one for each of our files.  HDUlist objects are the same thing you get back as if you downloaded the file and then run the following on the file: \n",
    "`hdu =  astropy.io.fits.open(FITS_file_name)`"
   ]
  },
  {
   "cell_type": "code",
   "execution_count": 24,
   "metadata": {},
   "outputs": [
    {
     "name": "stdout",
     "output_type": "stream",
     "text": [
      "Filename: <class '_io.BytesIO'>\n",
      "No.    Name      Ver    Type      Cards   Dimensions   Format\n",
      "  0  PRIMARY       1 PrimaryHDU      55   ()      \n",
      "  1  PIXELS        1 BinTableHDU    278   1282R x 12C   [D, E, J, 14400J, 14400E, 14400E, 14400E, 14400E, J, E, E, 38A]   \n",
      "  2  APERTURE      1 ImageHDU       146   (120, 120)   float64   \n"
     ]
    },
    {
     "data": {
      "text/plain": [
       "1"
      ]
     },
     "execution_count": 24,
     "metadata": {},
     "output_type": "execute_result"
    }
   ],
   "source": [
    "hdulist[0].info()\n",
    "hdulist[0][0].header['SECTOR']"
   ]
  },
  {
   "cell_type": "code",
   "execution_count": 25,
   "metadata": {},
   "outputs": [
    {
     "name": "stdout",
     "output_type": "stream",
     "text": [
      "Filename: <class '_io.BytesIO'>\n",
      "No.    Name      Ver    Type      Cards   Dimensions   Format\n",
      "  0  PRIMARY       1 PrimaryHDU      55   ()      \n",
      "  1  PIXELS        1 BinTableHDU    278   1245R x 12C   [D, E, J, 14400J, 14400E, 14400E, 14400E, 14400E, J, E, E, 38A]   \n",
      "  2  APERTURE      1 ImageHDU       146   (120, 120)   float64   \n"
     ]
    }
   ],
   "source": [
    "hdulist[1].info()"
   ]
  },
  {
   "cell_type": "markdown",
   "metadata": {},
   "source": [
    "[Top of Page](#title_ID)"
   ]
  },
  {
   "cell_type": "markdown",
   "metadata": {},
   "source": [
    "***"
   ]
  },
  {
   "cell_type": "markdown",
   "metadata": {},
   "source": [
    "<a id=\"plot_image\"></a>\n",
    "## Plot the First Image of the Time Series\n",
    "Here we show you some of the information found in the cutout. The format is identical to a TESS target pixel file. You should read through the target pixel file tutorial if you are not familiar with that file type.  \n",
    "\n",
    "The pixel-level data is stored in the first PIXELS extension, including an array of the calibrated pixels for each time stamp. See the column called 'FLUX'. \n"
   ]
  },
  {
   "cell_type": "code",
   "execution_count": 26,
   "metadata": {},
   "outputs": [],
   "source": [
    "# Define a function to simplify the plotting command that we do repeatedly.\n",
    "def plot_cutout(image):\n",
    "    \"\"\"\n",
    "    Plot image and add grid lines.\n",
    "    \"\"\"\n",
    "    plt.imshow(image, origin = 'lower', cmap = plt.cm.YlGnBu_r, \n",
    "           vmax = np.percentile(image, 92),\n",
    "           vmin = np.percentile(image, 5))\n",
    "\n",
    "    plt.grid(axis = 'both',color = 'white', ls = 'solid')"
   ]
  },
  {
   "cell_type": "code",
   "execution_count": 27,
   "metadata": {},
   "outputs": [
    {
     "data": {
      "text/plain": [
       "Text(0, 0.5, 'Image Row')"
      ]
     },
     "execution_count": 27,
     "metadata": {},
     "output_type": "execute_result"
    },
    {
     "data": {
      "image/png": "[encoded data removed]",
      "text/plain": [
       "<Figure size 504x504 with 1 Axes>"
      ]
     },
     "metadata": {
      "needs_background": "light"
     },
     "output_type": "display_data"
    }
   ],
   "source": [
    "hdu1 = hdulist[0]\n",
    "firstImage = hdu1[1].data['FLUX'][0]\n",
    "\n",
    "fig = plt.figure(figsize=(7, 7))\n",
    "plot_cutout(firstImage)\n",
    "plt.xlabel('Image Column',fontsize = 14)\n",
    "plt.ylabel('Image Row',fontsize = 14)\n"
   ]
  },
  {
   "cell_type": "markdown",
   "metadata": {},
   "source": [
    "### Show the first image of the second file \n",
    "We also add a WCS to the image and mark the requested star as well as nearby stars.\n",
    "We use the WCS in the header to place a red dot on the image for the catalog position of the star on the figure as a demonstration of the WCS. The orange dots are the nearby stars found in the cone search done above. \n",
    "\n",
    "**Note. The WCS is based on the WCS stored in the FFI file for the central part of the time series and there can be some motion during a sector of observation.**"
   ]
  },
  {
   "cell_type": "code",
   "execution_count": 28,
   "metadata": {},
   "outputs": [],
   "source": [
    "hdu2 = hdulist[1]\n",
    "\n",
    "firstImage = hdu2[1].data['FLUX'][0]\n",
    "\n",
    "wcs = WCS(hdu2[2].header)\n",
    "\n",
    "#fig = plt.figure(figsize = (8, 8))\n",
    "#fig.add_subplot(111, projection = wcs)\n",
    "#plot_cutout(firstImage)\n",
    "\n",
    "#plt.xlabel('RA')\n",
    "#plt.ylabel('Dec')\n",
    "\n",
    "\n",
    "#starloc = wcs.all_world2pix([[ra,dec]],0)  #Second is origin\n",
    "#plt.scatter(starloc[0,0], starloc[0,1],s = 45,color = 'red')\n",
    "\n",
    "# Plot nearby stars as well, which we created using our Catalog call above.\n",
    "#nearbyLoc = wcs.all_world2pix(nearbyStars[1:],0)\n",
    "#plt.scatter(nearbyLoc[1:, 0], nearbyLoc[1:, 1], \n",
    "#            s = 25, color = 'orange')"
   ]
  },
  {
   "cell_type": "markdown",
   "metadata": {},
   "source": [
    "<a id=\"lightcurve\"></a>\n",
    "## Create a Light Curve from the Cutout\n",
    "\n",
    "We create two functions.  One to appply a photometric aperture to one image and the other to then apply that to all the images in the FLUX array."
   ]
  },
  {
   "cell_type": "code",
   "execution_count": 29,
   "metadata": {},
   "outputs": [],
   "source": [
    "def aperture_phot(image, aperture):\n",
    "    \"\"\"\n",
    "    Sum-up the pixels that are in the aperture for one image.\n",
    "    image and aperture are 2D arrays that need to be the same size.\n",
    "    \n",
    "    aperture is a boolean array where True means to include the light of those pixels.\n",
    "    \"\"\"\n",
    "    flux = np.sum(image[aperture])\n",
    "\n",
    "    return flux\n",
    "\n",
    "def make_lc(flux_data, aperture):\n",
    "    \"\"\"\n",
    "    Apply the 2d aperture array to the and time series of 2D images. \n",
    "    Return the photometric series by summing over the pixels that are in the aperture.\n",
    "    \n",
    "    Aperture is a boolean array where True means it is in the desired aperture.\n",
    "    \"\"\"\n",
    "    \n",
    "    flux = np.array(list (map (lambda x: aperture_phot(x, aperture), flux_data) ) )\n",
    "\n",
    "    return flux\n"
   ]
  },
  {
   "cell_type": "markdown",
   "metadata": {},
   "source": [
    "### Create a photometric time series using all the pixels in the image.\n",
    "The third extension indicates which pixels have data in your image. To use all the returned pixels, we set our 2D aperture array to be True for all those with a value of 1 in that image. "
   ]
  },
  {
   "cell_type": "code",
   "execution_count": 30,
   "metadata": {},
   "outputs": [],
   "source": [
    "# Use all pixels in our aperture.\n",
    "aperture = hdu1[2].data == 1\n",
    "\n",
    "flux1 = make_lc(hdu1[1].data['FLUX'], aperture)\n",
    "time1 = hdu1[1].data['TIME']\n",
    "\n",
    "#plt.figure(figsize = (11,5))\n",
    "#plt.plot(time1, flux1, 'k.-', lw = .5)\n",
    "#plt.xlim(1325,1342)\n",
    "#plt.xlabel('TIME (BTJD)')\n",
    "#plt.ylabel('Flux (e-/s)')\n",
    "#plt.title('Flux in Photometric Aperture')"
   ]
  },
  {
   "cell_type": "markdown",
   "metadata": {},
   "source": [
    "### Estimate the background\n",
    "No background subtraction has been performed on these images.  We estimate the background by using numpy's percentile function and selecting those pixels from the first image below the 5th percentile as a way of estimating the background."
   ]
  },
  {
   "cell_type": "code",
   "execution_count": 31,
   "metadata": {},
   "outputs": [],
   "source": [
    "# Plot the flux change of the dimmest pixels by using percentile.\n",
    "bkgAperture = hdu1[1].data['FLUX'][0] < np.percentile(hdu1[1].data['FLUX'][0], 5)\n",
    "\n",
    "bkgFlux1 = make_lc(hdu1[1].data['FLUX'], bkgAperture)\n",
    "time1 = hdu1[1].data['TIME']\n",
    "\n",
    "#plt.figure(figsize = (11, 5))\n",
    "#plt.plot(time1, bkgFlux1, 'r.-', lw = .5)\n",
    "\n",
    "#plt.xlim(1325, 1342)\n",
    "#plt.xlabel('TIME (BTJD)')\n",
    "#plt.ylabel('Estimate of Background')\n",
    "#plt.title('Background Flux')"
   ]
  },
  {
   "cell_type": "markdown",
   "metadata": {},
   "source": [
    "### Subtract the background from the flux time series\n",
    "Subtract this background after accounting for the number of pixels used to estimate the flux of the background relative to the entire image.  The final plot shows that the background subtraction removed much of unexpected variation.  This is likely an eclipsing binary system.  "
   ]
  },
  {
   "cell_type": "code",
   "execution_count": 32,
   "metadata": {},
   "outputs": [
    {
     "name": "stdout",
     "output_type": "stream",
     "text": [
      "1606620000.0\n"
     ]
    }
   ],
   "source": [
    "bkgSubFlux = flux1 - (bkgFlux1 * np.sum(aperture) / np.sum(bkgAperture) )\n",
    "\n",
    "\n",
    "totalFlux = np.sum(bkgSubFlux)\n",
    "print(totalFlux)\n",
    "\n",
    "#plt.figure(figsize = (11,5))\n",
    "#plt.plot(time1, bkgSubFlux,'.-k', lw = 0.5)\n",
    "\n",
    "#plt.xlim(1325, 1336)\n",
    "#plt.xlabel('TIME (BTJD)')\n",
    "#plt.ylabel('Flux (e-/s)')\n",
    "#plt.title('Background Subtracted Flux')"
   ]
  },
  {
   "cell_type": "markdown",
   "metadata": {},
   "source": [
    "<a id=\"resources_ID\"></a>\n",
    "## Additional Resources\n",
    "[TESScut API Documentation](https://mast.stsci.edu/tesscut/)<br>\n",
    "[Astrocut Documentation](https://astrocut.readthedocs.io/en/latest/)<br>\n",
    "[TESS Homepage](https://archive.stsci.edu/tess)<br>\n",
    "[TESS Archive Manual](https://outerspace.stsci.edu/display/TESS/TESS+Archive+Manual)\n"
   ]
  },
  {
   "cell_type": "markdown",
   "metadata": {},
   "source": [
    "***"
   ]
  },
  {
   "cell_type": "markdown",
   "metadata": {},
   "source": [
    "<a id=\"about_ID\"></a>\n",
    "## About this Notebook\n",
    "**Author:** Susan E. Mullally, STScI Archive Scientist\n",
    "<br>**Updated On:** 2018-12-03"
   ]
  },
  {
   "cell_type": "markdown",
   "metadata": {},
   "source": [
    "[Top of Page](#title_ID)\n",
    "<img style=\"float: right;\" src=\"./stsci_pri_combo_mark_horizonal_white_bkgd.png\" alt=\"stsci_pri_combo_mark_horizonal_white_bkgd\" width=\"200px\"/> "
   ]
  }
 ],
 "metadata": {
  "kernelspec": {
   "display_name": "Python 3",
   "language": "python",
   "name": "python3"
  },
  "language_info": {
   "codemirror_mode": {
    "name": "ipython",
    "version": 3
   },
   "file_extension": ".py",
   "mimetype": "text/x-python",
   "name": "python",
   "nbconvert_exporter": "python",
   "pygments_lexer": "ipython3",
   "version": "3.6.7"
  }
 },
 "nbformat": 4,
 "nbformat_minor": 2
}
